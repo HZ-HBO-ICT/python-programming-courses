{
 "cells": [
  {
   "cell_type": "markdown",
   "metadata": {},
   "source": [
    "# Lesson 1\n",
    "\n",
    "In this lesson you'll get introduced to Python, a very powerful scripting language. It's the most prevalent language in data science, which is why you'll use it this semester. As with any programming/scripting language, Python has a few quirky and a few \"yes, please!\" features. \n",
    "\n",
    "## Jupyter notebook\n",
    "\n",
    "Please note that I'll be using Jupyter Notebooks to teach you. All of this code works perfectly fine if you export it to a Python script (xxx.py file). In fact, a Jupyter Notebook itself is one big JSON file with both code and output defined. You can do whatever you want with that JSON structure. There's a few plugins that allow you to separate code and output. There's even a plugin that allows you to write your scripts in a separate file and then run them as a code cell.\n",
    "\n",
    "\n",
    "There is one big catch when using a Jupyter Notebook: all state is persistent. That means that variables defined in cell 1 **will** carry over to cell 150,000. It also means that if you overwrite a variable that is defined in cell 1 in cell 3, the rest of the notebook will run with the value of that variable from cell 3. Pretty much every \"huh, what, how?\" in Jupyter Notebook is caused by the persistent state. To solve this, you can restart the kernel and run the entire notebook again. You can also write better code. The latter option is preferred as the first one is just fighting symptoms of bad programming. This is especially true in a notebook, where it's very easy to write up a big garbled mess of interdepending code that is hard to debug.\n",
    "\n",
    "I will show the persistent state within this notebook, so pay attention to the commentary.\n",
    "\n",
    "## This lesson\n",
    "\n",
    "When this lesson is over, you can write simple programs with variables, functions, control flow and loops.\n",
    "\n",
    "## Let's begin!"
   ]
  },
  {
   "cell_type": "code",
   "execution_count": null,
   "metadata": {},
   "outputs": [],
   "source": [
    "print(\"Let us begin!\")"
   ]
  },
  {
   "cell_type": "markdown",
   "metadata": {},
   "source": [
    "## Code cells\n",
    "\n",
    "You can make a new code cell by pressing the \"+\" sign in the above left corner, just under \"File\". Or press \"shift + enter\". From the dropdown menu to the right in the same row, you can select what you want the cell to render. Usually, you choose either \"Code\" for Python code or \"Markdown\" for commentary. Just like this cell!\n",
    "\n",
    "To run a cell, either press \"Run\" or \"ctrl + enter\" from within the cell you'd like to run. Under the \"Kernel\" option in the menu, there's options to run an entire notebook and more."
   ]
  },
  {
   "cell_type": "markdown",
   "metadata": {},
   "source": [
    "## Variables\n",
    "\n",
    "Note that in Python, it's standard to use snake casing. I wonder why."
   ]
  },
  {
   "cell_type": "code",
   "execution_count": null,
   "metadata": {},
   "outputs": [],
   "source": [
    "name = \"Loek\"\n",
    "this_class = \"Python programming\"\n",
    "amount_of_underscores_in_this_variable_name = 6"
   ]
  },
  {
   "cell_type": "markdown",
   "metadata": {},
   "source": [
    "### Exercise 1\n",
    "\n",
    "Save your name into a variable and print it"
   ]
  },
  {
   "cell_type": "code",
   "execution_count": null,
   "metadata": {},
   "outputs": [],
   "source": []
  },
  {
   "cell_type": "markdown",
   "metadata": {},
   "source": [
    "### Exercise 2\n",
    "\n",
    "Overwrite your name variable with a new value and print it again.\n",
    "\n",
    "Now run Exercise 1 again. What happened?"
   ]
  },
  {
   "cell_type": "code",
   "execution_count": null,
   "metadata": {},
   "outputs": [],
   "source": []
  },
  {
   "cell_type": "markdown",
   "metadata": {},
   "source": [
    "## Arithmetic\n",
    "\n",
    "Works exactly as you expect it to work. Python was designed by a mathematician after all."
   ]
  },
  {
   "cell_type": "code",
   "execution_count": null,
   "metadata": {},
   "outputs": [],
   "source": [
    "# Addition\n",
    "print(10 + 8)\n",
    "\n",
    "# Subtraction\n",
    "print (5 - 40)\n",
    "\n",
    "# Multiplication\n",
    "print(5 * 4)\n",
    "\n",
    "# Division\n",
    "print (6 / 2)\n",
    "\n",
    "# Modulus\n",
    "print (100 % 3)\n",
    "\n",
    "# Powers\n",
    "print(10**2)\n",
    "\n",
    "# Unnecessary but still fun commands\n",
    "print(\"na\" * 16 + \" Batman!\")"
   ]
  },
  {
   "cell_type": "markdown",
   "metadata": {},
   "source": [
    "### Exercise 3\n",
    "\n",
    "Think up a arithmetic exercise for a third-grade child. Print both the exercise and the result on one line"
   ]
  },
  {
   "cell_type": "code",
   "execution_count": null,
   "metadata": {},
   "outputs": [],
   "source": []
  },
  {
   "cell_type": "markdown",
   "metadata": {},
   "source": [
    "## Control flow\n",
    "\n",
    "Before we start with program flow, you need to know the first quirk of Python.\n",
    "\n",
    "What is the output of the following program?"
   ]
  },
  {
   "cell_type": "code",
   "execution_count": null,
   "metadata": {},
   "outputs": [],
   "source": [
    "if (5 > 1) {\n",
    "    print(\"Yay!\")\n",
    "} else {\n",
    "    print(\"Eeeeh...\")\n",
    "}"
   ]
  },
  {
   "cell_type": "markdown",
   "metadata": {},
   "source": [
    "## Syntaxis\n",
    "\n",
    "Python has no concept of curly brackets, except for the use of dictionaries (those come later, no worries). Python is a very weird language in that it uses blocks of 4 whitespaces as syntax. You really need to watch the whitespace. One single space can ruin your entire program. The problem with this is that it isn't easy to spot, in contrary to missing curly brackets. \n",
    "\n",
    "Instead of curly brackets, use whitespaces and colons. There's also no need to end the statements with a semicolon, but you've probably figured that out already.\n",
    "\n",
    "Also, Python was made as readable as the creator thought it was. So most parentheses \"()\" you need to use in other languages, are not necessary. I'll still use them however, so that the syntax resembles most other languages."
   ]
  },
  {
   "cell_type": "code",
   "execution_count": null,
   "metadata": {},
   "outputs": [],
   "source": [
    "if (5 > 1):\n",
    "    print(\"Yay!\")\n",
    "else:\n",
    "    print(\"Eeeeh...\")\n",
    "    \n",
    "# You could also write the following. Note the missing parentheses.\n",
    "if 5 > 1:\n",
    "    print(\"Yay!\")\n",
    "else:\n",
    "    print(\"Eeeeh...\")"
   ]
  },
  {
   "cell_type": "markdown",
   "metadata": {},
   "source": [
    "## Loops\n",
    "\n",
    "Python understands for loops and while loops just like any other language. The for-loop in Python is usually used as a foreach-loop. Again, note the readability of the loop.\n",
    "\n",
    "Sidenote: the `range(start, end)` command returns a list of numbers from start to end - 1."
   ]
  },
  {
   "cell_type": "code",
   "execution_count": null,
   "metadata": {},
   "outputs": [],
   "source": [
    "for i in range(0, 10):\n",
    "    print(i)"
   ]
  },
  {
   "cell_type": "markdown",
   "metadata": {},
   "source": [
    "### Exercise 4\n",
    "\n",
    "Write the above program in a while-loop"
   ]
  },
  {
   "cell_type": "code",
   "execution_count": null,
   "metadata": {},
   "outputs": [],
   "source": []
  },
  {
   "cell_type": "markdown",
   "metadata": {},
   "source": [
    "## Data types\n",
    "\n",
    "Python is a dynamically, but strongly typed language. It will throw type errors only at runtime, but it isn't like JavaScript where everything is converted to pretty much anything. You can, however, cast types explicitely."
   ]
  },
  {
   "cell_type": "code",
   "execution_count": null,
   "metadata": {},
   "outputs": [],
   "source": [
    "five = 5\n",
    "pi = 3.1415\n",
    "\n",
    "print(type(five))\n",
    "\n",
    "print(type(pi))\n",
    "\n",
    "print(int(pi))\n",
    "print(type(int(pi)))"
   ]
  },
  {
   "cell_type": "markdown",
   "metadata": {},
   "source": [
    "### Exercise 5\n",
    "\n",
    "Find all primitive data types in Python"
   ]
  },
  {
   "cell_type": "code",
   "execution_count": null,
   "metadata": {},
   "outputs": [],
   "source": []
  },
  {
   "cell_type": "markdown",
   "metadata": {},
   "source": [
    "## Functions\n",
    "\n",
    "Python has functions just as any other decent programming languages. The only difference is how you define them."
   ]
  },
  {
   "cell_type": "code",
   "execution_count": null,
   "metadata": {},
   "outputs": [],
   "source": [
    "def my_cool_function():\n",
    "    print(\"This is from inside myCoolFunction!\")"
   ]
  },
  {
   "cell_type": "markdown",
   "metadata": {},
   "source": [
    "Note that we're in a notebook, so the function is now defined for the entirety of the notebook. We can call it from any code cell. Calling is as you'd expect it to be:"
   ]
  },
  {
   "cell_type": "code",
   "execution_count": null,
   "metadata": {},
   "outputs": [],
   "source": [
    "my_cool_function()"
   ]
  },
  {
   "cell_type": "markdown",
   "metadata": {},
   "source": [
    "## Parameters in functions\n",
    "\n",
    "Work exactly as you'd expect."
   ]
  },
  {
   "cell_type": "code",
   "execution_count": null,
   "metadata": {},
   "outputs": [],
   "source": [
    "def print_full_name(first_name, last_name):\n",
    "    print(first_name + \" \" + last_name)"
   ]
  },
  {
   "cell_type": "code",
   "execution_count": null,
   "metadata": {},
   "outputs": [],
   "source": [
    "print_full_name(\"Loek\", \"van der Linde\")"
   ]
  },
  {
   "cell_type": "markdown",
   "metadata": {},
   "source": [
    "## The best quirk ever\n",
    "\n",
    "Python has named parameters. This is amazing."
   ]
  },
  {
   "cell_type": "code",
   "execution_count": null,
   "metadata": {},
   "outputs": [],
   "source": [
    "print_full_name(last_name=\"van der Linde\", first_name=\"Loek\")"
   ]
  },
  {
   "cell_type": "markdown",
   "metadata": {},
   "source": [
    "### Exercise 6\n",
    "\n",
    "What is the output of `print_full_name(1, 2)`? Why?"
   ]
  },
  {
   "cell_type": "code",
   "execution_count": null,
   "metadata": {},
   "outputs": [],
   "source": []
  },
  {
   "cell_type": "markdown",
   "metadata": {},
   "source": [
    "### Exercise 7\n",
    "\n",
    "Figure out how you can use default parameters so that the function call `printFullName(\"Loek\")` will result in `Loek van der Linde`."
   ]
  },
  {
   "cell_type": "code",
   "execution_count": null,
   "metadata": {},
   "outputs": [],
   "source": []
  },
  {
   "cell_type": "markdown",
   "metadata": {},
   "source": [
    "## Returns\n",
    "\n",
    "As with any programming language, Python can return from functions"
   ]
  },
  {
   "cell_type": "code",
   "execution_count": null,
   "metadata": {},
   "outputs": [],
   "source": [
    "def my_returning_function():\n",
    "    return \"Yep\""
   ]
  },
  {
   "cell_type": "markdown",
   "metadata": {},
   "source": [
    "### Exercise 8\n",
    "\n",
    "Write a program that takes the above function and prints the return value."
   ]
  },
  {
   "cell_type": "code",
   "execution_count": null,
   "metadata": {},
   "outputs": [],
   "source": []
  },
  {
   "cell_type": "markdown",
   "metadata": {},
   "source": [
    "## Almost done\n",
    "\n",
    "There's only a couple of things for you to know to end this lesson."
   ]
  },
  {
   "cell_type": "markdown",
   "metadata": {},
   "source": [
    "## Comments\n",
    "\n",
    "Python has single-line and multi-line comments. It can be a bit bloated to use them in a notebook (you have markdown support after all...), but I'll show you nonetheless."
   ]
  },
  {
   "cell_type": "code",
   "execution_count": null,
   "metadata": {},
   "outputs": [],
   "source": [
    "# This is a single line comment\n",
    "\n",
    "\"\"\"\n",
    "Multi-line comments are created by three double quotation marks.\n",
    "Don't ask me why\n",
    "You can stop the comment by typing another three.\n",
    "\"\"\"\n",
    "\n",
    "# Oh by the way, notebooks for some reason render multi-line comments in the output of their cells."
   ]
  },
  {
   "cell_type": "markdown",
   "metadata": {},
   "source": [
    "## One function to rule them all\n",
    "\n",
    "> \"Gandalf, which way to Mordor? Left of right?\"\n",
    "> ~ Frodo, 25 December 3018, TA"
   ]
  },
  {
   "cell_type": "code",
   "execution_count": null,
   "metadata": {},
   "outputs": [],
   "source": [
    "help(max)"
   ]
  },
  {
   "cell_type": "markdown",
   "metadata": {},
   "source": [
    "### Exercise 9\n",
    "\n",
    "Based on the documentation of the `max()` function, write two programs that use `max()`. Write one with an iterable and one with two arguments."
   ]
  },
  {
   "cell_type": "code",
   "execution_count": null,
   "metadata": {},
   "outputs": [],
   "source": []
  },
  {
   "cell_type": "markdown",
   "metadata": {},
   "source": [
    "## Putting it all together\n",
    "\n",
    "Next exercise combines everything you've learned in this course. We'll introduce a new datatype and you'll have to extract something from a list. Feel free to use the `help()` function, internet and your teacher for help."
   ]
  },
  {
   "cell_type": "markdown",
   "metadata": {},
   "source": [
    "### Exercise 10\n",
    "\n",
    "Write a function that accepts the following parameters:\n",
    "    \n",
    "- name\n",
    "- age\n",
    "- three_highest_grades\n",
    "\n",
    "The function returns a `tuple` with name, age and single highest grade. Print the returned tuple."
   ]
  },
  {
   "cell_type": "code",
   "execution_count": null,
   "metadata": {},
   "outputs": [],
   "source": []
  }
 ],
 "metadata": {
  "kernelspec": {
   "display_name": "Python 3",
   "language": "python",
   "name": "python3"
  },
  "language_info": {
   "codemirror_mode": {
    "name": "ipython",
    "version": 3
   },
   "file_extension": ".py",
   "mimetype": "text/x-python",
   "name": "python",
   "nbconvert_exporter": "python",
   "pygments_lexer": "ipython3",
   "version": "3.7.4"
  }
 },
 "nbformat": 4,
 "nbformat_minor": 4
}
